{
 "cells": [
  {
   "cell_type": "code",
   "id": "initial_id",
   "metadata": {
    "collapsed": true,
    "ExecuteTime": {
     "end_time": "2024-08-29T03:09:10.609060Z",
     "start_time": "2024-08-29T03:09:10.453563Z"
    }
   },
   "source": [
    "import cv2\n",
    "import numpy as np"
   ],
   "outputs": [],
   "execution_count": 1
  },
  {
   "metadata": {},
   "cell_type": "markdown",
   "source": "Load the cascade classifier for face detection",
   "id": "49a802f800d50064"
  },
  {
   "metadata": {
    "ExecuteTime": {
     "end_time": "2024-08-29T03:10:15.485465Z",
     "start_time": "2024-08-29T03:10:15.456364Z"
    }
   },
   "cell_type": "code",
   "source": "face_cascade = cv2.CascadeClassifier('haarcascade_frontalface_default.xml')\n",
   "id": "95fea46abc8ca6d0",
   "outputs": [],
   "execution_count": 3
  },
  {
   "metadata": {},
   "cell_type": "markdown",
   "source": "Functions",
   "id": "f750c13f321a5b41"
  },
  {
   "metadata": {},
   "cell_type": "markdown",
   "source": "Convert greyscale\n",
   "id": "19541c13e0acecb2"
  },
  {
   "metadata": {
    "ExecuteTime": {
     "end_time": "2024-08-29T03:12:43.568417Z",
     "start_time": "2024-08-29T03:12:43.563684Z"
    }
   },
   "cell_type": "code",
   "source": [
    "def detect_and_analyze_face(frame):\n",
    "  gray = cv2.cvtColor(frame, cv2.COLOR_BGR2GRAY)  # Convert to grayscale for efficiency\n"
   ],
   "id": "c1995cc35c58729b",
   "outputs": [],
   "execution_count": 4
  },
  {
   "metadata": {
    "ExecuteTime": {
     "end_time": "2024-08-29T03:12:54.478325Z",
     "start_time": "2024-08-29T03:12:54.216189Z"
    }
   },
   "cell_type": "code",
   "source": "faces = face_cascade.detectMultiScale(gray, 1.1, 4)",
   "id": "e5f6b98761b75731",
   "outputs": [
    {
     "ename": "NameError",
     "evalue": "name 'gray' is not defined",
     "output_type": "error",
     "traceback": [
      "\u001B[1;31m---------------------------------------------------------------------------\u001B[0m",
      "\u001B[1;31mNameError\u001B[0m                                 Traceback (most recent call last)",
      "Cell \u001B[1;32mIn[5], line 1\u001B[0m\n\u001B[1;32m----> 1\u001B[0m faces \u001B[38;5;241m=\u001B[39m face_cascade\u001B[38;5;241m.\u001B[39mdetectMultiScale(\u001B[43mgray\u001B[49m, \u001B[38;5;241m1.1\u001B[39m, \u001B[38;5;241m4\u001B[39m)\n",
      "\u001B[1;31mNameError\u001B[0m: name 'gray' is not defined"
     ]
    }
   ],
   "execution_count": 5
  },
  {
   "metadata": {
    "ExecuteTime": {
     "end_time": "2024-08-29T03:13:39.844276Z",
     "start_time": "2024-08-29T03:13:39.820809Z"
    }
   },
   "cell_type": "code",
   "source": [
    "for (x, y, w, h) in faces:\n",
    "    # Draw a green bounding box around the face\n",
    "    cv2.rectangle(frame, (x, y), (x+w, y+h), (0, 255, 0), 2)\n",
    "\n",
    "    # Analyze face shape (use both aspect ratio and landmarks for improved accuracy)\n",
    "    face_shape = analyze_face_shape(aspect_ratio=float(w) / h, facial_landmarks=None)\n",
    "\n",
    "    # Display face shape text on top of the bounding box\n",
    "    cv2.putText(frame, f\"Face Shape: {face_shape}\", (x+5, y-5), cv2.FONT_HERSHEY_SIMPLEX,\n",
    "                0.7, (0, 255, 0), 2)"
   ],
   "id": "f70978147e92a002",
   "outputs": [
    {
     "ename": "NameError",
     "evalue": "name 'faces' is not defined",
     "output_type": "error",
     "traceback": [
      "\u001B[1;31m---------------------------------------------------------------------------\u001B[0m",
      "\u001B[1;31mNameError\u001B[0m                                 Traceback (most recent call last)",
      "Cell \u001B[1;32mIn[6], line 1\u001B[0m\n\u001B[1;32m----> 1\u001B[0m \u001B[38;5;28;01mfor\u001B[39;00m (x, y, w, h) \u001B[38;5;129;01min\u001B[39;00m \u001B[43mfaces\u001B[49m:\n\u001B[0;32m      2\u001B[0m     \u001B[38;5;66;03m# Draw a green bounding box around the face\u001B[39;00m\n\u001B[0;32m      3\u001B[0m     cv2\u001B[38;5;241m.\u001B[39mrectangle(frame, (x, y), (x\u001B[38;5;241m+\u001B[39mw, y\u001B[38;5;241m+\u001B[39mh), (\u001B[38;5;241m0\u001B[39m, \u001B[38;5;241m255\u001B[39m, \u001B[38;5;241m0\u001B[39m), \u001B[38;5;241m2\u001B[39m)\n\u001B[0;32m      5\u001B[0m     \u001B[38;5;66;03m# Analyze face shape (use both aspect ratio and landmarks for improved accuracy)\u001B[39;00m\n",
      "\u001B[1;31mNameError\u001B[0m: name 'faces' is not defined"
     ]
    }
   ],
   "execution_count": 6
  },
  {
   "metadata": {
    "ExecuteTime": {
     "end_time": "2024-08-29T03:14:57.013227Z",
     "start_time": "2024-08-29T03:14:57.006670Z"
    }
   },
   "cell_type": "code",
   "source": [
    "# Display the frame with bounding boxes and shape analysis\n",
    "  cv2.imshow('Face Detection with Shape Analysis', frame)q"
   ],
   "id": "82305dfa9f40e836",
   "outputs": [
    {
     "ename": "IndentationError",
     "evalue": "unexpected indent (1148157662.py, line 2)",
     "output_type": "error",
     "traceback": [
      "\u001B[1;36m  Cell \u001B[1;32mIn[7], line 2\u001B[1;36m\u001B[0m\n\u001B[1;33m    cv2.imshow('Face Detection with Shape Analysis', frame)\u001B[0m\n\u001B[1;37m    ^\u001B[0m\n\u001B[1;31mIndentationError\u001B[0m\u001B[1;31m:\u001B[0m unexpected indent\n"
     ]
    }
   ],
   "execution_count": 7
  },
  {
   "metadata": {},
   "cell_type": "code",
   "outputs": [],
   "execution_count": null,
   "source": "",
   "id": "6b72cdbad32a3567"
  }
 ],
 "metadata": {
  "kernelspec": {
   "display_name": "Python 3",
   "language": "python",
   "name": "python3"
  },
  "language_info": {
   "codemirror_mode": {
    "name": "ipython",
    "version": 2
   },
   "file_extension": ".py",
   "mimetype": "text/x-python",
   "name": "python",
   "nbconvert_exporter": "python",
   "pygments_lexer": "ipython2",
   "version": "2.7.6"
  }
 },
 "nbformat": 4,
 "nbformat_minor": 5
}
